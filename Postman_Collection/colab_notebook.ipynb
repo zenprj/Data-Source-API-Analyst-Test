{
 "cells": [
  {
   "cell_type": "markdown",
   "metadata": {
    "id": "NayV-xJmMFzn"
   },
   "source": [
    "# Step-by-step guide of GitHub API researching"
   ]
  },
  {
   "cell_type": "markdown",
   "metadata": {
    "id": "PP3b3osmMqCd"
   },
   "source": [
    "## 1. Install required libraries\n",
    "\n",
    "\n"
   ]
  },
  {
   "cell_type": "code",
   "execution_count": null,
   "metadata": {
    "id": "3iezCke_MKLz"
   },
   "outputs": [],
   "source": [
    "!pip install requests"
   ]
  },
  {
   "cell_type": "markdown",
   "metadata": {
    "id": "9TYs_EkzNaz9"
   },
   "source": [
    "## 2. Set up basic imports"
   ]
  },
  {
   "cell_type": "code",
   "execution_count": null,
   "metadata": {
    "id": "9c9ID9SdNf4O"
   },
   "outputs": [],
   "source": [
    "import requests\n",
    "import json\n",
    "import time\n",
    "from pprint import pprint"
   ]
  },
  {
   "cell_type": "markdown",
   "metadata": {
    "id": "WgtSs98mTpan"
   },
   "source": [
    "## 3. Set up token and headers"
   ]
  },
  {
   "cell_type": "code",
   "execution_count": null,
   "metadata": {
    "id": "91l3UmlFTouN"
   },
   "outputs": [],
   "source": [
    "TOKEN = \"your-token\"\n",
    "HEADERS = {\n",
    "    \"Accept\": \"application/vnd.github+json\",\n",
    "    \"Authorization\": f\"Bearer {TOKEN}\",\n",
    "    \"X-GitHub-Api-Version\": \"2022-11-28\"\n",
    "}"
   ]
  },
  {
   "cell_type": "markdown",
   "metadata": {
    "id": "d5oYC3S_dtH_"
   },
   "source": [
    "## 4. Handle troubles"
   ]
  },
  {
   "cell_type": "markdown",
   "metadata": {
    "id": "mS9zIaMdvdqo"
   },
   "source": [
    "### Handle authentication"
   ]
  },
  {
   "cell_type": "code",
   "execution_count": null,
   "metadata": {
    "id": "peJGkDZxvjAi"
   },
   "outputs": [],
   "source": [
    "def test_authentication():\n",
    "    url = \"https://api.github.com/user\"\n",
    "    response = requests.get(url, headers=HEADERS)\n",
    "    if response.status_code == 200:\n",
    "        print(\"Authenticated!\")\n",
    "    else:\n",
    "        print(f\"Error: {response.status_code}\")\n",
    "        pprint(response.json())\n",
    "\n",
    "test_authentication()"
   ]
  },
  {
   "cell_type": "markdown",
   "metadata": {
    "id": "jErtOtede_Bo"
   },
   "source": [
    "### - Handle rate limits"
   ]
  },
  {
   "cell_type": "code",
   "execution_count": null,
   "metadata": {
    "id": "HT8nuRa3dHt5"
   },
   "outputs": [],
   "source": [
    "def check_rate_limit():\n",
    "    url = \"https://api.github.com/rate_limit\"\n",
    "    response = requests.get(url, headers=HEADERS)\n",
    "    rate_limit = response.json()\n",
    "    remaining = rate_limit['rate']['remaining']\n",
    "    reset_time = rate_limit['rate']['reset']\n",
    "\n",
    "    if remaining == 0:\n",
    "        wait_time = reset_time - time.time()\n",
    "        print(f\"Rate limit exceeded. Waiting for {wait_time:.2f} seconds.\")\n",
    "        time.sleep(wait_time + 1)\n",
    "    else:\n",
    "        print(f\"Requests remaining: {remaining}\")"
   ]
  },
  {
   "cell_type": "markdown",
   "metadata": {
    "id": "anrX0blnfpjA"
   },
   "source": [
    "### - Handle pagination"
   ]
  },
  {
   "cell_type": "code",
   "execution_count": null,
   "metadata": {
    "id": "oKwDlKJtfvcu"
   },
   "outputs": [],
   "source": [
    "def fetch_all_pages(fetch_function, *args, **kwargs):\n",
    "    all_results = []\n",
    "    page = 1\n",
    "    while True:\n",
    "        print(f\"Fetching page {page}...\")\n",
    "        check_rate_limit()\n",
    "        results = fetch_function(*args, **kwargs, page=page)\n",
    "        if not results:\n",
    "            print(\"No more results to fetch.\")\n",
    "            break\n",
    "        all_results.extend(results)\n",
    "        page += 1\n",
    "        time.sleep(0.5)\n",
    "    return all_results"
   ]
  },
  {
   "cell_type": "markdown",
   "metadata": {
    "id": "EmhASLpWqfGv"
   },
   "source": [
    "## 5. Define API functions"
   ]
  },
  {
   "cell_type": "markdown",
   "metadata": {
    "id": "25y8Hu3kq2q0"
   },
   "source": [
    "### - Search repositories"
   ]
  },
  {
   "cell_type": "code",
   "execution_count": null,
   "metadata": {
    "id": "-pSOv-9Bqjcq"
   },
   "outputs": [],
   "source": [
    "def search_repositories(query, per_page=10, page=1):\n",
    "    url = \"https://api.github.com/search/repositories\"\n",
    "    params = {\"q\": query, \"per_page\": per_page, \"page\": page}\n",
    "    response = requests.get(url, headers=HEADERS, params=params)\n",
    "    if response.status_code == 200:\n",
    "        return response.json().get(\"items\", [])\n",
    "    else:\n",
    "        print(f\"Error: {response.status_code}\")\n",
    "        pprint(response.json())\n",
    "        return []"
   ]
  },
  {
   "cell_type": "markdown",
   "metadata": {
    "id": "Xo-eawWjtrKM"
   },
   "source": [
    "### - Fetch commits"
   ]
  },
  {
   "cell_type": "code",
   "execution_count": null,
   "metadata": {
    "id": "yE-Yk6littsj"
   },
   "outputs": [],
   "source": [
    "def get_commits(owner, repo, per_page=10, page=1):\n",
    "    url = f\"https://api.github.com/repos/{owner}/{repo}/commits\"\n",
    "    params = {\"per_page\": per_page, \"page\": page}\n",
    "    response = requests.get(url, headers=HEADERS, params=params)\n",
    "    if response.status_code == 200:\n",
    "        return response.json()\n",
    "    else:\n",
    "        print(f\"Error: {response.status_code}\")\n",
    "        pprint(response.json())\n",
    "        return []"
   ]
  },
  {
   "cell_type": "markdown",
   "metadata": {
    "id": "GG4y2XmYufx2"
   },
   "source": [
    "### - Retrieve repository contents"
   ]
  },
  {
   "cell_type": "code",
   "execution_count": null,
   "metadata": {
    "id": "2n8DbpRluiHE"
   },
   "outputs": [],
   "source": [
    "def get_contents(owner, repo, path=\"\"):\n",
    "    url = f\"https://api.github.com/repos/{owner}/{repo}/contents/{path}\"\n",
    "    response = requests.get(url, headers=HEADERS)\n",
    "    if response.status_code == 200:\n",
    "        return response.json()\n",
    "    else:\n",
    "        print(f\"Error: {response.status_code}\")\n",
    "        pprint(response.json())\n",
    "        return []"
   ]
  },
  {
   "cell_type": "markdown",
   "metadata": {
    "id": "XKe9bwlliK78"
   },
   "source": [
    "### - Save data to JSON-file"
   ]
  },
  {
   "cell_type": "code",
   "execution_count": null,
   "metadata": {
    "id": "6oD2owC4iQYO"
   },
   "outputs": [],
   "source": [
    "def save_to_json(data, filename):\n",
    "    with open(filename, \"w\") as file:\n",
    "        json.dump(data, file, indent=4, ensure_ascii=False)\n",
    "    print(f\"Data saved to {filename}\")"
   ]
  },
  {
   "cell_type": "markdown",
   "metadata": {
    "id": "ajohsbIwwcRZ"
   },
   "source": [
    "## 6. Extract data"
   ]
  },
  {
   "cell_type": "markdown",
   "metadata": {
    "id": "hFaN4ULTwhYK"
   },
   "source": [
    "### - Fetch all repositories"
   ]
  },
  {
   "cell_type": "code",
   "execution_count": null,
   "metadata": {
    "id": "Ma5jIZjXwl6h"
   },
   "outputs": [],
   "source": [
    "all_repositories = search_repositories(query=\"python\", per_page=5)\n",
    "print(f\"Total repositories fetched: {len(all_repositories)}\")\n",
    "save_to_json(all_repositories, \"repositories.json\")"
   ]
  },
  {
   "cell_type": "markdown",
   "metadata": {
    "id": "bGXH6FRcxCY6"
   },
   "source": [
    "### - Fetch all commits"
   ]
  },
  {
   "cell_type": "code",
   "execution_count": null,
   "metadata": {
    "id": "zL9F130exFy7"
   },
   "outputs": [],
   "source": [
    "all_commits = fetch_all_pages(get_commits, owner=\"octocat\", repo=\"Hello-World\", per_page=5)\n",
    "print(f\"Total commits fetched: {len(all_commits)}\")\n",
    "save_to_json(all_commits, \"commits.json\")"
   ]
  },
  {
   "cell_type": "markdown",
   "metadata": {
    "id": "pdjH_n_-xLQ1"
   },
   "source": [
    "### - Fetch all repository contents"
   ]
  },
  {
   "cell_type": "code",
   "execution_count": null,
   "metadata": {
    "id": "Ujlauog0xQ_c"
   },
   "outputs": [],
   "source": [
    "all_contents = get_contents(owner=\"Timons172\", repo=\"Library-Management-System\")\n",
    "print(f\"Total contents fetched: {len(all_contents)}\")\n",
    "save_to_json(all_contents, \"contents.json\")"
   ]
  }
 ],
 "metadata": {
  "colab": {
   "provenance": []
  },
  "kernelspec": {
   "display_name": "Python 3",
   "name": "python3"
  },
  "language_info": {
   "name": "python"
  }
 },
 "nbformat": 4,
 "nbformat_minor": 0
}
